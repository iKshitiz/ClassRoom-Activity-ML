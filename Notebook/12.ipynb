{
  "cells": [
    {
      "metadata": {
        "trusted": true
      },
      "cell_type": "code",
      "source": "import numpy as np\nimport pandas as pd\nfrom sklearn.naive_bayes import GaussianNB\nfrom sklearn import svm\n",
      "execution_count": 1,
      "outputs": []
    },
    {
      "metadata": {
        "trusted": true
      },
      "cell_type": "code",
      "source": "df = pd.read_csv(\"/home/nbuser/library/pm10data.csv\")\ndfs =pd.read_csv(\"/home/nbuser/library/sound.csv\")\ndfs.columns = [\"time\",\"sound\"]\ndf.columns = [\"time\",\"pm1\",\"pm2\",\"pm10\",\"temp\",\"hum\"]",
      "execution_count": 2,
      "outputs": []
    },
    {
      "metadata": {
        "scrolled": true,
        "trusted": true
      },
      "cell_type": "code",
      "source": "dfMean = df.groupby(\"time\").mean()\ndfsMean = dfs.groupby(\"time\").mean()",
      "execution_count": 3,
      "outputs": []
    },
    {
      "metadata": {
        "trusted": true
      },
      "cell_type": "code",
      "source": "dfsMean = dfsMean.reset_index()\ndfMean = dfMean.reset_index()\n\ndfMean['sound'] = dfsMean['sound']\n\nnpTime = dfMean['time'].values\n\ndfTest = dfMean[100:]\nnpTest = dfTest[['time','pm10','sound']].values\ndfTrain = dfMean[:100]\n\ndfNew = dfTrain[['time','pm10','sound']]",
      "execution_count": 4,
      "outputs": []
    },
    {
      "metadata": {
        "trusted": true
      },
      "cell_type": "code",
      "source": "from sklearn import preprocessing\n\nstd_scale = preprocessing.StandardScaler().fit(dfNew[['pm10', 'sound']])\ndf_std = std_scale.transform(dfNew[['pm10', 'sound']])\n\nminmax_scale = preprocessing.MinMaxScaler().fit(dfNew[['pm10', 'sound']])\ndf_minmax = minmax_scale.transform(dfNew[['pm10', 'sound']])",
      "execution_count": 5,
      "outputs": []
    },
    {
      "metadata": {
        "trusted": true
      },
      "cell_type": "code",
      "source": "dfstd = pd.DataFrame(df_std)\ndfstd.columns=['pm10','sound']\n\nnpTrain = df_std",
      "execution_count": 6,
      "outputs": []
    },
    {
      "metadata": {
        "trusted": true
      },
      "cell_type": "code",
      "source": "          \nclassi = [[\"idle\",\"class\",\"Board Work\"],\n         [\"Lecture\",\"Teacher's Movement\",\"Board Work\"],\n         [\"Discussion\",\"Gossip + BW\",\"Gossip + mov\"],\n         [\"Group noise\",\"Mass Entry Exit\",\"Mass Entry Exit\"]]",
      "execution_count": 7,
      "outputs": []
    },
    {
      "metadata": {
        "trusted": true
      },
      "cell_type": "code",
      "source": "\nyTrain = []\n#classi[2]\n\nfor i in range (len(npTrain)-1):\n    #print(npTrain[i][2],end=\" : \")\n    #print(npTrain[i][5], end=\" and \")\n    if npTrain[i][1] < -1:\n        if npTrain[i+1][0] <-1:\n                yTrain.append(classi[0][0])\n        elif npTrain[i+1][0] < 1:\n                yTrain.append(classi[0][1])\n        else:\n                yTrain.append(classi[0][2])\n    elif npTrain[i][1] < 0:\n        if npTrain[i+1][0] <-1:\n            yTrain.append(classi[1][0])\n        elif npTrain[i+1][0] < 1:\n            yTrain.append(classi[1][1])\n        else:\n            yTrain.append(classi[1][2])\n                \n    elif npTrain[i][1] < 1:\n        if npTrain[i+1][0] <-1:\n            yTrain.append(classi[2][0])\n        elif npTrain[i+1][0] < 1:\n            yTrain.append(classi[2][1])\n        else:\n            yTrain.append(classi[2][2])\n                \n    elif npTrain[i][1] > 1:\n        if npTrain[i+1][0] <-1:\n            yTrain.append(classi[3][0])\n        elif npTrain[i+1][0] < 1:\n            yTrain.append(classi[3][1])            \n        else:\n            yTrain.append(classi[3][2])\n                \n    \n    #print(yTrain[i])\nyTrain.append('x')",
      "execution_count": 8,
      "outputs": []
    },
    {
      "metadata": {
        "trusted": true
      },
      "cell_type": "code",
      "source": "x = npTrain\ny = np.array(yTrain)\n#Create a Gaussian Classifier\nmodel = GaussianNB()\n# Train the model using the training sets\nmodel.fit(x, y)\n#Predict Output\n",
      "execution_count": 9,
      "outputs": [
        {
          "output_type": "execute_result",
          "execution_count": 9,
          "data": {
            "text/plain": "GaussianNB(priors=None)"
          },
          "metadata": {}
        }
      ]
    },
    {
      "metadata": {
        "trusted": true
      },
      "cell_type": "code",
      "source": "from sklearn import preprocessing\ndfTest = pd.DataFrame(npTest)\ndfTest.columns = ['time','pm10','sound']\nstd_scale = preprocessing.StandardScaler().fit(dfTest[['pm10', 'sound']])\ndf_std = std_scale.transform(dfTest[['pm10', 'sound']])\nnpTest = df_std",
      "execution_count": 10,
      "outputs": []
    },
    {
      "metadata": {
        "trusted": true
      },
      "cell_type": "code",
      "source": "a = []\nt = 0\nfor i in range(len(npTrain)):\n    \n    predicted= model.predict([npTrain[i]])\n    a.append([npTime[i],predicted[0]])\n\nt = i+1\n\nfor i in range(len(npTest)):\n    \n    \n    predicted= model.predict([npTest[i]])\n    a.append([npTime[i+t],predicted[0]])\n",
      "execution_count": 11,
      "outputs": []
    },
    {
      "metadata": {
        "scrolled": false,
        "trusted": true
      },
      "cell_type": "code",
      "source": "print(\"Time        Activity\\n\")\nfor i in a:\n    for j in i:\n        print(j, end = \"    \")\n    print()",
      "execution_count": 18,
      "outputs": [
        {
          "output_type": "stream",
          "text": "Time        Activity\n\n 14:04    Gossip + BW    \n 14:05    Gossip + mov    \n 14:06    Mass Entry Exit    \n 14:07    Mass Entry Exit    \n 14:08    Mass Entry Exit    \n 14:09    Mass Entry Exit    \n 14:10    Mass Entry Exit    \n 14:11    Mass Entry Exit    \n 14:12    Mass Entry Exit    \n 14:13    Mass Entry Exit    \n 14:14    Mass Entry Exit    \n 14:15    Mass Entry Exit    \n 14:16    Mass Entry Exit    \n 14:17    Mass Entry Exit    \n 14:18    Mass Entry Exit    \n 14:19    Mass Entry Exit    \n 14:20    Teacher's Movement    \n 14:21    Teacher's Movement    \n 14:22    Teacher's Movement    \n 14:23    Teacher's Movement    \n 14:24    Teacher's Movement    \n 14:25    Teacher's Movement    \n 14:26    Teacher's Movement    \n 14:27    Teacher's Movement    \n 14:28    Teacher's Movement    \n 14:29    class    \n 14:30    Teacher's Movement    \n 14:31    Gossip + BW    \n 14:32    Gossip + BW    \n 14:33    Gossip + BW    \n 14:34    Teacher's Movement    \n 14:35    Gossip + BW    \n 14:36    Teacher's Movement    \n 14:37    Gossip + BW    \n 14:38    Gossip + BW    \n 14:39    Teacher's Movement    \n 14:40    Teacher's Movement    \n 14:41    Teacher's Movement    \n 14:42    Gossip + BW    \n 14:43    Lecture    \n 14:44    Teacher's Movement    \n 14:45    Teacher's Movement    \n 14:46    Gossip + BW    \n 14:47    Lecture    \n 14:48    Teacher's Movement    \n 14:49    Lecture    \n 14:50    Gossip + BW    \n 14:51    Lecture    \n 14:52    Lecture    \n 14:53    Lecture    \n 14:54    idle    \n 14:55    Gossip + BW    \n 14:56    Gossip + BW    \n 14:57    Gossip + BW    \n 14:58    Gossip + BW    \n 14:59    Gossip + BW    \n 15:00    Mass Entry Exit    \n 15:01    Mass Entry Exit    \n 15:02    Mass Entry Exit    \n 15:03    Mass Entry Exit    \n 15:04    Gossip + BW    \n 15:05    Gossip + mov    \n 15:06    Teacher's Movement    \n 15:07    Teacher's Movement    \n 15:08    Teacher's Movement    \n 15:09    class    \n 15:10    class    \n 15:11    Board Work    \n 15:12    class    \n 15:13    class    \n 15:14    class    \n 15:15    Teacher's Movement    \n 15:16    class    \n 15:17    Teacher's Movement    \n 15:18    class    \n 15:19    class    \n 15:20    class    \n 15:21    Teacher's Movement    \n 15:22    class    \n 15:23    Teacher's Movement    \n 15:24    Teacher's Movement    \n 15:25    Teacher's Movement    \n 15:26    Teacher's Movement    \n 15:27    class    \n 15:28    class    \n 15:29    class    \n 15:30    Lecture    \n 15:31    Teacher's Movement    \n 15:32    Teacher's Movement    \n 15:33    Lecture    \n 15:34    Lecture    \n 15:35    Gossip + BW    \n 15:36    Teacher's Movement    \n 15:37    idle    \n 15:38    Lecture    \n 15:39    Lecture    \n 15:40    Lecture    \n 15:41    Discussion    \n 15:42    Group noise    \n 15:43    x    \n 15:44    Mass Entry Exit    \n 15:45    Mass Entry Exit    \n 15:46    Gossip + BW    \n 15:47    Gossip + BW    \n 15:48    Mass Entry Exit    \n 15:49    Mass Entry Exit    \n 15:50    Gossip + BW    \n 15:51    Mass Entry Exit    \n 15:52    Mass Entry Exit    \n 15:53    Mass Entry Exit    \n 15:54    Mass Entry Exit    \n 15:55    Mass Entry Exit    \n 15:56    Gossip + BW    \n 15:57    Gossip + mov    \n 15:58    Teacher's Movement    \n 15:59    Gossip + BW    \n 16:00    Gossip + BW    \n 16:01    Gossip + BW    \n 16:02    Teacher's Movement    \n 16:03    Gossip + BW    \n 16:04    Gossip + BW    \n 16:05    Gossip + mov    \n 16:06    Teacher's Movement    \n 16:07    Teacher's Movement    \n 16:08    Gossip + BW    \n 16:09    Teacher's Movement    \n 16:10    Gossip + BW    \n 16:11    Teacher's Movement    \n 16:12    Teacher's Movement    \n 16:13    Teacher's Movement    \n 16:14    Teacher's Movement    \n 16:15    Teacher's Movement    \n 16:16    Gossip + BW    \n 16:17    Teacher's Movement    \n 16:18    Teacher's Movement    \n 16:19    Gossip + BW    \n 16:20    Teacher's Movement    \n 16:21    Gossip + BW    \n 16:22    Teacher's Movement    \n 16:23    Teacher's Movement    \n 16:24    Lecture    \n 16:25    Gossip + BW    \n 16:26    Gossip + BW    \n 16:27    Gossip + BW    \n 16:28    Gossip + BW    \n 16:29    Gossip + BW    \n 16:30    Gossip + BW    \n 16:31    Discussion    \n 16:32    Teacher's Movement    \n 16:33    Teacher's Movement    \n 16:34    Teacher's Movement    \n 16:35    Gossip + BW    \n 16:36    Gossip + BW    \n 16:37    Gossip + BW    \n 16:38    Teacher's Movement    \n 16:39    Teacher's Movement    \n 16:40    Gossip + BW    \n 16:41    Gossip + BW    \n 16:42    Gossip + BW    \n 16:43    Mass Entry Exit    \n 16:44    Mass Entry Exit    \n 16:45    Gossip + BW    \n 16:46    Discussion    \n 16:47    Gossip + BW    \n 16:48    Board Work    \n 16:49    Gossip + BW    \n 16:50    Board Work    \n 16:51    Board Work    \n 16:52    Teacher's Movement    \n 16:53    Teacher's Movement    \n 16:54    Gossip + BW    \n 16:55    Teacher's Movement    \n 16:56    class    \n 16:57    class    \n 16:58    class    \n 16:59    Teacher's Movement    \n 17:00    Teacher's Movement    \n 17:01    Gossip + BW    \n 17:02    Teacher's Movement    \n 17:03    class    \n 17:04    Teacher's Movement    \n 17:05    class    \n 17:06    Teacher's Movement    \n 17:07    Teacher's Movement    \n 17:08    Teacher's Movement    \n 17:09    Teacher's Movement    \n 17:10    Gossip + BW    \n 17:11    class    \n 17:12    class    \n 17:13    class    \n 17:14    class    \n 17:15    Teacher's Movement    \n 17:16    class    \n 17:17    Teacher's Movement    \n 17:18    idle    \n 17:19    Board Work    \n 17:20    Board Work    \n 17:21    Board Work    \n",
          "name": "stdout"
        }
      ]
    }
  ],
  "metadata": {
    "kernelspec": {
      "name": "python3",
      "display_name": "Python 3",
      "language": "python"
    },
    "language_info": {
      "mimetype": "text/x-python",
      "nbconvert_exporter": "python",
      "name": "python",
      "file_extension": ".py",
      "version": "3.5.4",
      "pygments_lexer": "ipython3",
      "codemirror_mode": {
        "version": 3,
        "name": "ipython"
      }
    }
  },
  "nbformat": 4,
  "nbformat_minor": 2
}