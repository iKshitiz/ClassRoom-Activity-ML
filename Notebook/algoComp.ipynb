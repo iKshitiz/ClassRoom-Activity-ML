{
  "cells": [
    {
      "metadata": {
        "trusted": true
      },
      "cell_type": "code",
      "source": "import numpy as np\nimport pandas as pd\nfrom sklearn.naive_bayes import GaussianNB\nfrom sklearn import svm\n",
      "execution_count": 24,
      "outputs": []
    },
    {
      "metadata": {
        "trusted": true
      },
      "cell_type": "code",
      "source": "df = pd.read_csv(\"/home/nbuser/library/pm10data.csv\")\ndfs =pd.read_csv(\"/home/nbuser/library/sound.csv\")\ndfs.columns = [\"time\",\"sound\"]\ndf.columns = [\"time\",\"pm1\",\"pm2\",\"pm10\",\"temp\",\"hum\"]\n\ndfMean = df.groupby(\"time\").mean()\ndfsMean = dfs.groupby(\"time\").mean()",
      "execution_count": 25,
      "outputs": []
    },
    {
      "metadata": {
        "trusted": true
      },
      "cell_type": "code",
      "source": "dfsMean = dfsMean.reset_index()\ndfMean = dfMean.reset_index()\n\ndfMean['sound'] = dfsMean['sound']\n\nnpTime = dfMean['time'].values\n\ndfTest = dfMean[100:]\nnpTest = dfTest[['time','pm10','sound']].values\ndfTrain = dfMean[:100]\n\ndfNew = dfTrain[['time','pm10','sound']]",
      "execution_count": 26,
      "outputs": []
    },
    {
      "metadata": {
        "trusted": true
      },
      "cell_type": "code",
      "source": "def labelData(npTrain,):\n   \n    '''classi = [[\"idle\",\"class\",\"Board Work\"],\n             [\"Lecture\",\"Teacher's Movement\",\"Board Work\"],\n             [\"Discussion\",\"Gossip + BW\",\"Gossip + mov\"],\n             [\"Group noise\",\"Mass Entry Exit\",\"Mass Entry Exit\"]]\n    '''\n    classi = [[\"A\",\"B\",\"C\"],\n             [\"D\",\"E\",\"F\"],\n             [\"G\",\"H\",\"I\"],\n             [\"J\",\"K\",\"L\"]]\n\n    yTrain = []\n    #classi[2]\n\n    for i in range (len(npTrain)-1):\n        #print(npTrain[i][2],end=\" : \")\n        #print(npTrain[i][5], end=\" and \")\n        if npTrain[i][1] < -1:\n            if npTrain[i+1][0] <-1:\n                    yTrain.append(classi[0][0])\n            elif npTrain[i+1][0] < 1:\n                    yTrain.append(classi[0][1])\n            else:\n                    yTrain.append(classi[0][2])\n        elif npTrain[i][1] < 0:\n            if npTrain[i+1][0] <-1:\n                yTrain.append(classi[1][0])\n            elif npTrain[i+1][0] < 1:\n                yTrain.append(classi[1][1])\n            else:\n                yTrain.append(classi[1][2])\n\n        elif npTrain[i][1] < 1:\n            if npTrain[i+1][0] <-1:\n                yTrain.append(classi[2][0])\n            elif npTrain[i+1][0] < 1:\n                yTrain.append(classi[2][1])\n            else:\n                yTrain.append(classi[2][2])\n\n        elif npTrain[i][1] > 1:\n            if npTrain[i+1][0] <-1:\n                yTrain.append(classi[3][0])\n            elif npTrain[i+1][0] < 1:\n                yTrain.append(classi[3][1])            \n            else:\n                yTrain.append(classi[3][2])\n\n\n        #print(yTrain[i])\n    yTrain.append('x')\n    return yTrain",
      "execution_count": 27,
      "outputs": []
    },
    {
      "metadata": {
        "trusted": true
      },
      "cell_type": "code",
      "source": "from sklearn import preprocessing\n\nstd_scale = preprocessing.StandardScaler().fit(dfNew[['pm10', 'sound']])\ndf_std = std_scale.transform(dfNew[['pm10', 'sound']])\n\nminmax_scale = preprocessing.MinMaxScaler().fit(dfNew[['pm10', 'sound']])\ndf_minmax = minmax_scale.transform(dfNew[['pm10', 'sound']])\n\n\nnpTrain = df_std\nyTrain = labelData(npTrain)",
      "execution_count": 28,
      "outputs": []
    },
    {
      "metadata": {
        "trusted": true
      },
      "cell_type": "code",
      "source": "x = npTrain\ny = np.array(yTrain)\n#Create a Gaussian Classifier\nmodel = GaussianNB()\n# Train the model using the training sets\nmodel.fit(x, y)\n#Predict Output\n",
      "execution_count": 29,
      "outputs": [
        {
          "output_type": "execute_result",
          "execution_count": 29,
          "data": {
            "text/plain": "GaussianNB(priors=None)"
          },
          "metadata": {}
        }
      ]
    },
    {
      "metadata": {
        "trusted": true
      },
      "cell_type": "code",
      "source": "from sklearn import preprocessing\ndfTest = pd.DataFrame(npTest)\ndfTest.columns = ['time','pm10','sound']\nstd_scale = preprocessing.StandardScaler().fit(dfTest[['pm10', 'sound']])\ndf_std = std_scale.transform(dfTest[['pm10', 'sound']])\nnpTest = df_std",
      "execution_count": 30,
      "outputs": []
    },
    {
      "metadata": {
        "trusted": true
      },
      "cell_type": "code",
      "source": "\n\na = []\nt = 0\nfor i in range(len(npTrain)):\n    \n    predicted= model.predict([npTrain[i]])\n    a.append([npTime[i],predicted[0]])\n\nt = i+1\n\nfor i in range(len(npTest)):\n    \n    \n    predicted= model.predict([npTest[i]])\n    a.append([npTime[i+t],predicted[0]])\n\ndfout = pd.DataFrame(a)\ndfout.columns = ['time','eventNB']",
      "execution_count": 31,
      "outputs": []
    },
    {
      "metadata": {
        "trusted": true
      },
      "cell_type": "code",
      "source": "model = svm.SVC(kernel='linear', C=1, gamma=1) \nmodel.fit(x, y)\nmodel.score(x, y)\n#Predict Output\npredicted= model.predict(npTest)\n\na = []\nt = 0\nfor i in range(len(npTrain)):\n    \n    predicted= model.predict([npTrain[i]])\n    a.append([npTime[i],predicted[0]])\n\nt = i+1\n\nfor i in range(len(npTest)):\n    \n    \n    predicted= model.predict([npTest[i]])\n    a.append([npTime[i+t],predicted[0]])\n    \ndfoutsvm = pd.DataFrame(a)\ndfoutsvm.columns = ['time','eventSVMl']\ndfout['svml'] = dfoutsvm['eventSVMl']\na = dfout.values",
      "execution_count": 32,
      "outputs": []
    },
    {
      "metadata": {
        "trusted": true
      },
      "cell_type": "code",
      "source": "model = svm.SVC(kernel='rbf', C=1, gamma=1) \nmodel.fit(x, y)\nmodel.score(x, y)\n#Predict Output\npredicted= model.predict(npTest)\n\na = []\nt = 0\nfor i in range(len(npTrain)):\n    \n    predicted= model.predict([npTrain[i]])\n    a.append([npTime[i],predicted[0]])\n\nt = i+1\n\nfor i in range(len(npTest)):\n    \n    \n    predicted= model.predict([npTest[i]])\n    a.append([npTime[i+t],predicted[0]])\n    \ndfoutsvm = pd.DataFrame(a)\ndfoutsvm.columns = ['time','eventSVMrbf']\ndfout['svmrbf'] = dfoutsvm['eventSVMrbf']\na = dfout.values",
      "execution_count": 33,
      "outputs": []
    },
    {
      "metadata": {
        "trusted": true
      },
      "cell_type": "code",
      "source": "model = svm.SVC(kernel='rbf', C=1, gamma=1) \nmodel.fit(x, y)\nmodel.score(x, y)\n#Predict Output\n\na = []\nt = 0\nfor i in range(len(npTrain)):\n    \n    predicted= model.predict([npTrain[i]])\n    a.append([npTime[i],predicted[0]])\n\nt = i+1\n\nfor i in range(len(npTest)):\n    \n    \n    predicted= model.predict([npTest[i]])\n    a.append([npTime[i+t],predicted[0]])\n    \ndfoutsvm = pd.DataFrame(a)\ndfoutsvm.columns = ['time','eventSVMpoly']\ndfout['svmpoly'] = dfoutsvm['eventSVMpoly']\na = dfout.values",
      "execution_count": 34,
      "outputs": []
    },
    {
      "metadata": {
        "trusted": true
      },
      "cell_type": "code",
      "source": "for i in a:\n    if i[4] == \"Mass Entry Exit\":\n        print(i[0],\"(4)\",end = \" \")\n    \n    if i[3] == \"Mass Entry Exit\":\n        print(i[0],\"(3)\",end = \" \")\n    \n    if i[2] == \"Mass Entry Exit\":\n        print(i[0],\"(2)\",end = \" \")\n    \n    if i[1] == \"Mass Entry Exit\":\n        print(i[0],\"(1)\",end = \"\\n\")",
      "execution_count": 35,
      "outputs": []
    },
    {
      "metadata": {
        "trusted": true
      },
      "cell_type": "code",
      "source": "from sklearn import tree\n\nmodel = tree.DecisionTreeClassifier(criterion='gini') \n# for classification, here you can change the algorithm as gini or entropy (information gain) by default it is gini  \n\nX = x\n\nmodel.fit(X, y)\nmodel.score(X, y)\n#Predict Output\n\na = []\nt = 0\nfor i in range(len(npTrain)):\n    \n    predicted= model.predict([npTrain[i]])\n    a.append([npTime[i],predicted[0]])\n\nt = i+1\n\nfor i in range(len(npTest)):\n    \n    \n    predicted= model.predict([npTest[i]])\n    a.append([npTime[i+t],predicted[0]])\n    \ndfoutsvm = pd.DataFrame(a)\ndfoutsvm.columns = ['time','eventDTginni']\ndfout['eventDTginni'] = dfoutsvm['eventDTginni']\na = dfout.values",
      "execution_count": 36,
      "outputs": []
    },
    {
      "metadata": {
        "trusted": true
      },
      "cell_type": "code",
      "source": "from sklearn import tree\n\nmodel = tree.DecisionTreeClassifier(criterion='entropy') \n# for classification, here you can change the algorithm as gini or entropy (information gain) by default it is gini  \n\nX = x\n\nmodel.fit(X, y)\nmodel.score(X, y)\n#Predict Output\n\n\na = []\nt = 0\nfor i in range(len(npTrain)):\n    \n    predicted= model.predict([npTrain[i]])\n    a.append([npTime[i],predicted[0]])\n\nt = i+1\n\nfor i in range(len(npTest)):\n    \n    \n    predicted= model.predict([npTest[i]])\n    a.append([npTime[i+t],predicted[0]])\n    \ndfoutsvm = pd.DataFrame(a)\ndfoutsvm.columns = ['time','eventDTentropy']\ndfout['eventDTentropy'] = dfoutsvm['eventDTentropy']\na = dfout.values",
      "execution_count": 37,
      "outputs": []
    },
    {
      "metadata": {
        "trusted": true
      },
      "cell_type": "code",
      "source": "lned = '|'\nfor i in a:\n    for j in i:\n        print(j,  end =\"||\" )\n    print()",
      "execution_count": 38,
      "outputs": [
        {
          "output_type": "stream",
          "text": " 14:04||H||E||E||E||F||F||\n 14:05||I||I||H||H||I||I||\n 14:06||L||L||L||L||L||L||\n 14:07||L||K||L||L||L||L||\n 14:08||L||L||L||L||L||L||\n 14:09||L||L||L||L||L||L||\n 14:10||L||K||L||L||L||L||\n 14:11||L||K||L||L||K||K||\n 14:12||K||K||K||K||L||L||\n 14:13||L||L||L||L||K||K||\n 14:14||K||K||K||K||K||K||\n 14:15||K||K||K||K||K||K||\n 14:16||K||K||K||K||L||L||\n 14:17||K||I||H||H||H||H||\n 14:18||K||K||K||K||K||K||\n 14:19||K||K||K||K||K||K||\n 14:20||E||E||E||E||E||E||\n 14:21||E||E||E||E||E||E||\n 14:22||E||E||E||E||E||E||\n 14:23||E||E||E||E||E||E||\n 14:24||E||E||E||E||E||E||\n 14:25||E||E||E||E||E||E||\n 14:26||E||E||E||E||E||E||\n 14:27||E||E||E||E||E||E||\n 14:28||E||E||E||E||E||E||\n 14:29||B||E||E||E||B||B||\n 14:30||E||E||E||E||E||E||\n 14:31||H||H||H||H||H||H||\n 14:32||H||H||H||H||H||H||\n 14:33||H||H||H||H||H||H||\n 14:34||E||E||E||E||E||E||\n 14:35||H||H||H||H||H||H||\n 14:36||E||E||E||E||D||D||\n 14:37||H||H||H||H||H||H||\n 14:38||H||H||H||H||H||H||\n 14:39||E||E||E||E||E||E||\n 14:40||E||E||E||E||E||E||\n 14:41||E||E||E||E||E||E||\n 14:42||H||H||H||H||G||G||\n 14:43||D||E||E||E||E||E||\n 14:44||E||E||E||E||E||E||\n 14:45||E||E||E||E||E||E||\n 14:46||H||H||H||H||G||G||\n 14:47||D||E||E||E||E||E||\n 14:48||E||E||E||E||D||D||\n 14:49||D||D||D||D||D||D||\n 14:50||H||H||H||H||G||G||\n 14:51||D||D||D||D||E||E||\n 14:52||D||D||D||D||D||D||\n 14:53||D||E||E||E||D||D||\n 14:54||A||D||D||D||A||A||\n 14:55||H||H||H||H||H||H||\n 14:56||H||H||H||H||H||H||\n 14:57||H||H||H||H||H||H||\n 14:58||H||H||H||H||H||H||\n 14:59||H||H||H||H||H||H||\n 15:00||K||K||K||K||K||K||\n 15:01||K||K||K||K||K||K||\n 15:02||K||K||K||K||K||K||\n 15:03||K||K||K||K||K||K||\n 15:04||H||H||H||H||I||I||\n 15:05||I||I||H||H||I||I||\n 15:06||E||E||E||E||F||F||\n 15:07||E||E||E||E||F||F||\n 15:08||E||E||E||E||E||E||\n 15:09||B||E||E||E||F||F||\n 15:10||B||E||E||E||F||F||\n 15:11||F||E||E||E||E||E||\n 15:12||B||B||B||B||B||B||\n 15:13||C||B||B||B||C||C||\n 15:14||B||B||E||E||B||B||\n 15:15||E||E||E||E||E||E||\n 15:16||B||E||E||E||E||E||\n 15:17||E||E||E||E||E||E||\n 15:18||B||B||B||B||B||B||\n 15:19||B||B||B||B||B||B||\n 15:20||B||E||E||E||B||B||\n 15:21||E||E||E||E||E||E||\n 15:22||B||B||B||B||B||B||\n 15:23||E||E||E||E||E||E||\n 15:24||E||E||E||E||E||E||\n 15:25||E||E||E||E||E||E||\n 15:26||E||E||E||E||E||E||\n 15:27||B||B||B||B||B||B||\n 15:28||B||B||B||B||B||B||\n 15:29||B||B||B||B||B||B||\n 15:30||D||E||E||E||E||E||\n 15:31||E||E||E||E||E||E||\n 15:32||E||E||E||E||D||D||\n 15:33||D||D||D||D||D||D||\n 15:34||D||D||D||D||D||D||\n 15:35||H||E||H||H||H||H||\n 15:36||E||E||E||E||D||D||\n 15:37||A||D||D||D||A||A||\n 15:38||D||D||D||D||D||D||\n 15:39||D||D||D||D||D||D||\n 15:40||D||D||D||D||D||D||\n 15:41||G||H||E||E||G||G||\n 15:42||J||H||H||H||J||J||\n 15:43||x||H||H||H||x||x||\n 15:44||L||x||E||E||x||x||\n 15:45||H||H||H||H||J||J||\n 15:46||H||H||H||H||x||J||\n 15:47||H||H||H||H||H||H||\n 15:48||L||x||E||E||x||x||\n 15:49||L||x||H||H||x||x||\n 15:50||H||H||H||H||H||H||\n 15:51||K||K||K||K||K||L||\n 15:52||K||K||K||K||K||L||\n 15:53||K||K||K||K||K||K||\n 15:54||K||K||K||K||K||L||\n 15:55||L||I||H||H||L||L||\n 15:56||H||I||H||H||H||H||\n 15:57||I||I||H||H||I||I||\n 15:58||E||E||E||E||F||F||\n 15:59||H||I||I||I||H||H||\n 16:00||H||H||H||H||H||H||\n 16:01||H||H||H||H||H||H||\n 16:02||E||E||E||E||E||E||\n 16:03||H||H||H||H||H||H||\n 16:04||H||H||H||H||H||H||\n 16:05||I||I||H||H||H||H||\n 16:06||E||H||E||E||E||E||\n 16:07||E||E||E||E||F||F||\n 16:08||H||H||H||H||H||H||\n 16:09||E||H||H||H||E||E||\n 16:10||H||H||H||H||H||H||\n 16:11||E||E||E||E||E||E||\n 16:12||E||E||E||E||E||E||\n 16:13||E||E||E||E||E||E||\n 16:14||E||E||E||E||E||E||\n 16:15||E||E||E||E||E||E||\n 16:16||H||E||E||E||E||F||\n 16:17||E||E||E||E||E||E||\n 16:18||E||E||E||E||E||E||\n 16:19||H||H||H||H||H||H||\n 16:20||E||E||E||E||E||E||\n 16:21||H||H||H||H||H||H||\n 16:22||E||E||E||E||E||E||\n 16:23||E||E||E||E||D||D||\n 16:24||D||E||E||E||D||D||\n 16:25||H||H||H||H||I||I||\n 16:26||H||H||H||H||H||H||\n 16:27||H||H||H||H||H||H||\n 16:28||H||H||H||H||I||I||\n 16:29||H||H||H||H||H||H||\n 16:30||H||H||H||H||H||H||\n 16:31||G||H||H||H||H||H||\n 16:32||E||E||E||E||E||E||\n 16:33||E||E||E||E||E||E||\n 16:34||E||E||E||E||E||E||\n 16:35||H||H||H||H||H||H||\n 16:36||H||H||H||H||H||H||\n 16:37||H||H||H||H||G||G||\n 16:38||E||E||E||E||E||E||\n 16:39||E||E||E||E||E||E||\n 16:40||H||H||H||H||H||H||\n 16:41||H||H||H||H||H||H||\n 16:42||H||H||H||H||H||H||\n 16:43||K||K||K||K||K||K||\n 16:44||K||K||K||K||K||K||\n 16:45||H||H||H||H||H||H||\n 16:46||G||E||H||H||H||H||\n 16:47||H||H||H||H||H||H||\n 16:48||F||E||E||E||E||E||\n 16:49||H||I||H||H||H||H||\n 16:50||F||E||E||E||E||E||\n 16:51||F||H||F||F||F||F||\n 16:52||E||E||E||E||E||E||\n 16:53||E||E||E||E||E||E||\n 16:54||H||H||H||H||H||H||\n 16:55||E||E||E||E||F||F||\n 16:56||B||B||B||B||B||B||\n 16:57||B||B||B||B||B||B||\n 16:58||B||E||E||E||F||F||\n 16:59||E||E||E||E||E||E||\n 17:00||E||E||E||E||E||E||\n 17:01||H||H||H||H||G||G||\n 17:02||E||E||E||E||E||E||\n 17:03||B||B||B||B||C||C||\n 17:04||E||E||E||E||E||E||\n 17:05||B||B||B||B||B||B||\n 17:06||E||E||E||E||E||E||\n 17:07||E||E||E||E||E||E||\n 17:08||E||E||E||E||E||E||\n 17:09||E||H||H||H||E||E||\n 17:10||H||H||H||H||H||H||\n 17:11||B||B||B||B||B||B||\n 17:12||B||B||E||E||B||B||\n 17:13||B||B||B||B||B||B||\n 17:14||B||E||E||E||F||F||\n 17:15||E||E||E||E||E||E||\n 17:16||B||E||E||E||F||F||\n 17:17||E||E||E||E||E||E||\n 17:18||A||D||D||D||A||A||\n 17:19||F||A||E||E||A||A||\n 17:20||F||A||E||E||A||A||\n 17:21||F||A||E||E||A||A||\n",
          "name": "stdout"
        }
      ]
    }
  ],
  "metadata": {
    "kernelspec": {
      "name": "python3",
      "display_name": "Python 3",
      "language": "python"
    },
    "language_info": {
      "mimetype": "text/x-python",
      "nbconvert_exporter": "python",
      "name": "python",
      "pygments_lexer": "ipython3",
      "version": "3.5.4",
      "file_extension": ".py",
      "codemirror_mode": {
        "version": 3,
        "name": "ipython"
      }
    }
  },
  "nbformat": 4,
  "nbformat_minor": 2
}